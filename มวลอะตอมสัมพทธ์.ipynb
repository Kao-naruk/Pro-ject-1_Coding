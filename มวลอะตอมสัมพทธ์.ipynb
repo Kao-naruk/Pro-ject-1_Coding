{
  "nbformat": 4,
  "nbformat_minor": 0,
  "metadata": {
    "colab": {
      "provenance": [],
      "authorship_tag": "ABX9TyMUfGWLFvcFIArGADSGCAeQ",
      "include_colab_link": true
    },
    "kernelspec": {
      "name": "python3",
      "display_name": "Python 3"
    },
    "language_info": {
      "name": "python"
    }
  },
  "cells": [
    {
      "cell_type": "markdown",
      "metadata": {
        "id": "view-in-github",
        "colab_type": "text"
      },
      "source": [
        "<a href=\"https://colab.research.google.com/github/Kao-naruk/Pro-ject-1_Coding/blob/main/%E0%B8%A1%E0%B8%A7%E0%B8%A5%E0%B8%AD%E0%B8%B0%E0%B8%95%E0%B8%AD%E0%B8%A1%E0%B8%AA%E0%B8%B1%E0%B8%A1%E0%B8%9E%E0%B8%97%E0%B8%98%E0%B9%8C.ipynb\" target=\"_parent\"><img src=\"https://colab.research.google.com/assets/colab-badge.svg\" alt=\"Open In Colab\"/></a>"
      ]
    },
    {
      "cell_type": "code",
      "source": [
        "import sympy as sp\n",
        "\n",
        "atomic_mass_input = input(\"Enter the atomic mass of the element (g): \")\n",
        "atomic_mass = sp.sympify(atomic_mass_input.replace('^', '**'))\n",
        "\n",
        "def calculate_relative_atomic_mass(atomic_mass):\n",
        "    \"\"\"\n",
        "    Calculate the relative atomic mass.\n",
        "    :param atomic_mass: Atomic mass of the element (can use * and ^ for multiplication and exponentiation).\n",
        "    :return: Relative atomic mass (dimensionless).\n",
        "    \"\"\"\n",
        "    atomic_mass_unit = 1.66e-24  # Use scientific notation for very small numbers\n",
        "    relative_atomic_mass = atomic_mass / atomic_mass_unit\n",
        "    return relative_atomic_mass.evalf()\n",
        "\n",
        "def determine_group(relative_atomic_mass):\n",
        "    \"\"\"\n",
        "    Determine the group (A) of the element based on relative atomic mass.\n",
        "    :param relative_atomic_mass: Relative atomic mass of the element.\n",
        "    :return: Group (A) of the element or \"Unknown\" if not found.\n",
        "    \"\"\"\n",
        "\n",
        "    # Correct way to compare against a set of values:  Use \"in\"\n",
        "    # Also, use a dictionary for more efficient lookups and cleaner code.\n",
        "    group_mapping = {\n",
        "        1: \"No group\",  # Special case\n",
        "        7: \"Group 1A\", 23: \"Group 1A\", 39: \"Group 1A\", 85: \"Group 1A\", 133: \"Group 1A\", 223: \"Group 1A\",\n",
        "        9: \"Group 2A\", 24: \"Group 2A\", 40: \"Group 2A\", 88: \"Group 2A\", 137: \"Group 2A\", 226: \"Group 2A\",\n",
        "        11: \"Group 3A\", 27: \"Group 3A\", 70: \"Group 3A\", 115: \"Group 3A\", 204: \"Group 3A\",\n",
        "        12: \"Group 4A\", 28: \"Group 4A\", 73: \"Group 4A\", 119: \"Group 4A\", 207: \"Group 4A\",\n",
        "        14: \"Group 5A\", 31: \"Group 5A\", 75: \"Group 5A\", 122: \"Group 5A\", 209: \"Group 5A\",\n",
        "        16: \"Group 6A\", 32: \"Group 6A\", 79: \"Group 6A\", 128: \"Group 6A\", 208.9: \"Group 6A\",  # Corrected value\n",
        "        19: \"Group 7A\", 35.5: \"Group 7A\", 80: \"Group 7A\", 127: \"Group 7A\", 210: \"Group 7A\",\n",
        "        4: \"Group 8A\", 20: \"Group 8A\", 40: \"Group 8A\", 84: \"Group 8A\", 131: \"Group 8A\", 222: \"Group 8A\",\n",
        "    }\n",
        "\n",
        "    relative_atomic_mass_rounded = round(float(relative_atomic_mass)) # Round for comparison\n",
        "\n",
        "    if relative_atomic_mass_rounded in group_mapping:\n",
        "        return group_mapping[relative_atomic_mass_rounded]\n",
        "    else:\n",
        "        return \"Unknown\"  # Return \"Unknown\" if not found\n",
        "\n",
        "\n",
        "\n",
        "relative_mass = calculate_relative_atomic_mass(atomic_mass)\n",
        "group = determine_group(relative_mass) # Call the function and store the result.\n",
        "\n",
        "print(f\"Relative Atomic Mass: {relative_mass}\")\n",
        "print(f\"Element belongs to: {group}\")"
      ],
      "metadata": {
        "colab": {
          "base_uri": "https://localhost:8080/"
        },
        "id": "BtJiKYeZcIuk",
        "outputId": "0eefd3d3-d039-4168-a3f1-ea54898260ab"
      },
      "execution_count": 2,
      "outputs": [
        {
          "output_type": "stream",
          "name": "stdout",
          "text": [
            "Enter the atomic mass of the element (g): 2.656*10^-23\n",
            "Relative Atomic Mass: 16.0000000000000\n",
            "Element belongs to: Group 6A\n"
          ]
        }
      ]
    }
  ]
}