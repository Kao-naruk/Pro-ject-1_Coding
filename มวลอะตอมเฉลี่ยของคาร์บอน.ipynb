{
  "nbformat": 4,
  "nbformat_minor": 0,
  "metadata": {
    "colab": {
      "provenance": [],
      "authorship_tag": "ABX9TyPOvAL/YFLPm9ebfHSUvjgJ",
      "include_colab_link": true
    },
    "kernelspec": {
      "name": "python3",
      "display_name": "Python 3"
    },
    "language_info": {
      "name": "python"
    }
  },
  "cells": [
    {
      "cell_type": "markdown",
      "metadata": {
        "id": "view-in-github",
        "colab_type": "text"
      },
      "source": [
        "<a href=\"https://colab.research.google.com/github/Kao-naruk/Pro-ject-1_Coding/blob/main/%E0%B8%A1%E0%B8%A7%E0%B8%A5%E0%B8%AD%E0%B8%B0%E0%B8%95%E0%B8%AD%E0%B8%A1%E0%B9%80%E0%B8%89%E0%B8%A5%E0%B8%B5%E0%B9%88%E0%B8%A2%E0%B8%82%E0%B8%AD%E0%B8%87%E0%B8%84%E0%B8%B2%E0%B8%A3%E0%B9%8C%E0%B8%9A%E0%B8%AD%E0%B8%99.ipynb\" target=\"_parent\"><img src=\"https://colab.research.google.com/assets/colab-badge.svg\" alt=\"Open In Colab\"/></a>"
      ]
    },
    {
      "cell_type": "code",
      "source": [
        "\n",
        "  def katoey_function(atomicmass,isotopes,isotopestwo,atomicmasstwo) :\n",
        "    result =( (atomicmass* isotopes ) + (atomicmasstwo*isotopestwo) ) /100\n",
        "    print(\"มวลอะตอมเฉลี่ยของคาร์บอน\",'%.2f'%result , \"g/mol\")\n",
        "  katoey_function(4,50,60,70)"
      ],
      "metadata": {
        "colab": {
          "base_uri": "https://localhost:8080/"
        },
        "id": "1rcuYytCgYVs",
        "outputId": "390a9a20-fc64-448e-a715-ff01f3f3ab7f"
      },
      "execution_count": 1,
      "outputs": [
        {
          "output_type": "stream",
          "name": "stdout",
          "text": [
            "มวลอะตอมเฉลี่ยของคาร์บอน 44.00 g/mol\n"
          ]
        }
      ]
    }
  ]
}