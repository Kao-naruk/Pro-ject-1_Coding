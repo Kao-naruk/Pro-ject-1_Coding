{
  "nbformat": 4,
  "nbformat_minor": 0,
  "metadata": {
    "colab": {
      "provenance": [],
      "authorship_tag": "ABX9TyNCI86kRGlRiUXk6lPf2QPT",
      "include_colab_link": true
    },
    "kernelspec": {
      "name": "python3",
      "display_name": "Python 3"
    },
    "language_info": {
      "name": "python"
    }
  },
  "cells": [
    {
      "cell_type": "markdown",
      "metadata": {
        "id": "view-in-github",
        "colab_type": "text"
      },
      "source": [
        "<a href=\"https://colab.research.google.com/github/Kao-naruk/Pro-ject-1_Coding/blob/main/27_kao.ipynb\" target=\"_parent\"><img src=\"https://colab.research.google.com/assets/colab-badge.svg\" alt=\"Open In Colab\"/></a>"
      ]
    },
    {
      "cell_type": "markdown",
      "source": [
        "เลขที่ 27 (เก้า) เตชิต จิตต์บำรุงชัย\n",
        "No.27 (Kao) Techit Jitbomrungchai"
      ],
      "metadata": {
        "id": "o5_Jl-mAfr1_"
      }
    },
    {
      "cell_type": "code",
      "source": [
        "print('hi i am a kao and i am a ladyboy')"
      ],
      "metadata": {
        "colab": {
          "base_uri": "https://localhost:8080/"
        },
        "id": "HC6zMuRFAsG1",
        "outputId": "3a052136-77b1-41ad-81d0-8f200e44e1c8"
      },
      "execution_count": null,
      "outputs": [
        {
          "output_type": "stream",
          "name": "stdout",
          "text": [
            "hi i am a kao and i am a ladyboy\n"
          ]
        }
      ]
    },
    {
      "cell_type": "code",
      "source": [
        "a = 5\n",
        "b = 100\n",
        "print(a,\"เท่าของ\",b,\"เท่ากับ\",a * b)"
      ],
      "metadata": {
        "colab": {
          "base_uri": "https://localhost:8080/"
        },
        "id": "lRj33tKOGfT8",
        "outputId": "b7b408de-5422-48e2-d8bf-84012ab35066"
      },
      "execution_count": null,
      "outputs": [
        {
          "output_type": "stream",
          "name": "stdout",
          "text": [
            "5 เท่าของ 100 เท่ากับ 500\n"
          ]
        }
      ]
    },
    {
      "cell_type": "markdown",
      "source": [
        "29 May 2024\n",
        "\n",
        "\n",
        "* ได้รู้จักว่าตัวเเปรคืออะไร\n",
        "\n",
        "* ได้รู้การตั้งชื่อตัวเเปรว่าควรประมวณผลเเบบไหนถึงเหมาะสม\n",
        "\n",
        "* คำสั่งtypeบอกประเภทของตัวเเปร\n",
        "\n",
        "\n"
      ],
      "metadata": {
        "id": "XH_NbkikhopY"
      }
    },
    {
      "cell_type": "code",
      "source": [
        "a=2\n",
        "b=1.5\n",
        "c=\"Kao\"\n",
        "type(c)\n",
        "print(\"ตัวแปรที่ฉันคิดคือ k\")"
      ],
      "metadata": {
        "colab": {
          "base_uri": "https://localhost:8080/"
        },
        "id": "kgMUac4_i0bh",
        "outputId": "b75da751-b54b-4f80-e826-f67c56039dc4"
      },
      "execution_count": null,
      "outputs": [
        {
          "output_type": "stream",
          "name": "stdout",
          "text": [
            "ตัวแปรที่ฉันคิดคือ k\n"
          ]
        }
      ]
    },
    {
      "cell_type": "code",
      "source": [
        "numeric1 = 5\n",
        "type(numeric1)\n",
        "print(numeric1)"
      ],
      "metadata": {
        "colab": {
          "base_uri": "https://localhost:8080/"
        },
        "id": "8JH7aKoWkVpc",
        "outputId": "7bb0b7a5-9b26-412b-841a-799276dfbd2f"
      },
      "execution_count": null,
      "outputs": [
        {
          "output_type": "stream",
          "name": "stdout",
          "text": [
            "5\n"
          ]
        }
      ]
    },
    {
      "cell_type": "markdown",
      "source": [
        "5/06/67\n",
        "Data structure\n",
        "basic\n",
        "1.Numeric int(จ.น.จริง) float(จ.น.เต็ม) bool(true false)\n",
        "\n",
        "2. string\n",
        "\n",
        "index จัดลำดับตัวอักษรจาก 0 เพิ่มขึ้นทีละ 1\n",
        " P y t h o n\n",
        " 0 1 2 3 4 5\n",
        " 0 -1 -2 -3 -4 -5\n",
        "\n",
        " input คือ ป้อนcode string1 = \"Python\"\n",
        "                                          print(string1[0])\n",
        " process คือ การรันโค้ดหรือประมวลโค้ดที่โค้ดออกมาเป็นตัวPเนื่องจากinputไว้ว่าต้องการ[0]\n",
        " output คือ P"
      ],
      "metadata": {
        "id": "5XDwIJAGc2G9"
      }
    },
    {
      "cell_type": "code",
      "source": [
        "string1 = \"Python\"\n",
        "print(string1[0])"
      ],
      "metadata": {
        "colab": {
          "base_uri": "https://localhost:8080/"
        },
        "id": "5G2ncbsKZrrv",
        "outputId": "e568ffb4-b0fc-4617-e094-e7a6b323510c"
      },
      "execution_count": null,
      "outputs": [
        {
          "output_type": "stream",
          "name": "stdout",
          "text": [
            "P\n"
          ]
        }
      ]
    },
    {
      "cell_type": "markdown",
      "source": [
        "26 มิถุนายน 2567\n"
      ],
      "metadata": {
        "id": "92V6UT9Supef"
      }
    },
    {
      "cell_type": "code",
      "source": [
        "name = input(\"สวัสดีค่ะฉันชื่อเตชิตคนสวยเธอชื่อไรหรอ\")\n",
        "print(name)"
      ],
      "metadata": {
        "colab": {
          "base_uri": "https://localhost:8080/"
        },
        "id": "2s4yrPGeu0ZW",
        "outputId": "d53efec0-1bc0-4c18-db25-ae2de5c5af0f"
      },
      "execution_count": null,
      "outputs": [
        {
          "output_type": "stream",
          "name": "stdout",
          "text": [
            "สวัสดีค่ะฉันชื่อเตชิตคนสวยเธอชื่อไรหรอเตชิด\n",
            "เตชิด\n"
          ]
        }
      ]
    },
    {
      "cell_type": "code",
      "source": [],
      "metadata": {
        "id": "KOM_yVRVzxJk"
      },
      "execution_count": null,
      "outputs": []
    },
    {
      "cell_type": "code",
      "source": [
        "side = int(input(\"ความยาวด้าน(ซม.)คือ\"))\n",
        "area = side * side\n",
        "print(\"พื้นที่สี่เหลี่ยม เท่ากับ\",area,\"ตร.ซม.\")"
      ],
      "metadata": {
        "id": "20XK505Uy9Pd",
        "colab": {
          "base_uri": "https://localhost:8080/"
        },
        "outputId": "571da506-5f71-4ea3-c135-9ef236464c12"
      },
      "execution_count": null,
      "outputs": [
        {
          "output_type": "stream",
          "name": "stdout",
          "text": [
            "ความยาวด้าน(ซม.)คือ5\n",
            "พื้นที่สี่เหลี่ยม เท่ากับ 25 ตร.ซม.\n"
          ]
        }
      ]
    },
    {
      "cell_type": "markdown",
      "source": [
        "1/07/2567"
      ],
      "metadata": {
        "id": "AUvwyFBrRUuS"
      }
    },
    {
      "cell_type": "code",
      "source": [
        "from os import waitid_result\n",
        "side = int(input(\"ความยาวด้าน (ซม.) เท่ากับ \"))\n",
        "width = int(input(\"ความกว้าง (ซม.) เท่ากับ \"))\n",
        "area = side * width\n",
        "print(\"พื้นที่สี่เหลี่ยมผืนผ้าเท่ากับ\",area,\"ตร.ซม.\")"
      ],
      "metadata": {
        "id": "m8hMWOkY2KCm",
        "colab": {
          "base_uri": "https://localhost:8080/"
        },
        "outputId": "73c220d9-2de4-4c11-a1a6-f28fc51a9698"
      },
      "execution_count": null,
      "outputs": [
        {
          "output_type": "stream",
          "name": "stdout",
          "text": [
            "ความยาวด้าน (ซม.) เท่ากับ 7\n",
            "ความกว้าง (ซม.) เท่ากับ 9\n",
            "พื้นที่สี่เหลี่ยมผืนผ้าเท่ากับ 63 ตร.ซม.\n"
          ]
        }
      ]
    },
    {
      "cell_type": "code",
      "source": [
        "s = int(input(\"ระยะทาง(ม.)คือ\"))\n",
        "t = int(input(\"เวลา(ว.)คือ\"))\n",
        "v = s/t\n",
        "print(\"อัตตราเร็วเท่ากับ\",v,\"m/s\")"
      ],
      "metadata": {
        "colab": {
          "base_uri": "https://localhost:8080/"
        },
        "id": "0QwCzXqnTw7o",
        "outputId": "d0a0c408-bb6e-4e77-f00d-55b0e9bfe45a"
      },
      "execution_count": null,
      "outputs": [
        {
          "output_type": "stream",
          "name": "stdout",
          "text": [
            "ระยะทาง(ม.)คือ2\n",
            "เวลา(ว.)คือ8\n",
            "อัตตราเร็วเท่ากับ 0.25 m/s\n"
          ]
        }
      ]
    },
    {
      "cell_type": "code",
      "source": [
        "print(\"โปรเเกรมคำนวณดัชนีมวลกาย by techit\")\n",
        "name = input(\"กรุณากรอกชื่อของคุณ\")\n",
        "print(\"สวัสดี ยินดีต้อนรับคุณ\",name,)\n",
        "weight = float(input('น้ำหนัก(กก.)คือ'))\n",
        "height =float(input('ส่วนสูง(ม.)คือ'))\n",
        "BMI = weight/height**2\n",
        "print('ดัชนีมวลกายเท่ากับ',BMI,)"
      ],
      "metadata": {
        "colab": {
          "base_uri": "https://localhost:8080/"
        },
        "id": "vOMEjhdnc3Sk",
        "outputId": "47b31874-8d61-4040-8be8-4379827a7b34"
      },
      "execution_count": null,
      "outputs": [
        {
          "output_type": "stream",
          "name": "stdout",
          "text": [
            "โปรเเกรมคำนวณดัชนีมวลกาย by techit\n",
            "กรุณากรอกชื่อของคุณเตชิต\n",
            "สวัสดี ยินดีต้อนรับคุณ เตชิต\n",
            "น้ำหนัก(กก.)คือ22\n",
            "ส่วนสูง(ม.)คือ180\n",
            "ดัชนีมวลกายเท่ากับ 0.0006790123456790123\n"
          ]
        }
      ]
    },
    {
      "cell_type": "code",
      "source": [
        "\n",
        "  def katoey_function(atomicmass,isotopes,isotopestwo,atomicmasstwo) :\n",
        "    result =( (atomicmass* isotopes ) + (atomicmasstwo*isotopestwo) ) /100\n",
        "    print(\"มวลอะตอมเฉลี่ยของคาร์บอน\",'%.2f'%result , \"g/mol\")\n",
        "  katoey_function(4,50,60,70)"
      ],
      "metadata": {
        "colab": {
          "base_uri": "https://localhost:8080/"
        },
        "id": "H4U4CMH_5bHK",
        "outputId": "f554c225-e37f-4763-ccf2-7faf4ad72588"
      },
      "execution_count": null,
      "outputs": [
        {
          "output_type": "stream",
          "name": "stdout",
          "text": [
            "มวลอะตอมเฉลี่ยของคาร์บอน 44.00 g/mol\n"
          ]
        }
      ]
    }
  ]
}